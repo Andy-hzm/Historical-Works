{
 "cells": [
  {
   "cell_type": "code",
   "execution_count": 59,
   "metadata": {},
   "outputs": [],
   "source": [
    "import numpy as np\n",
    "import heapq\n",
    "import math\n",
    "from queue import Queue\n",
    "import csv\n",
    "import matplotlib.pyplot as plt"
   ]
  },
  {
   "cell_type": "code",
   "execution_count": 60,
   "metadata": {},
   "outputs": [],
   "source": [
    "class system:\n",
    "    def __init__(self, m, s,end, aRate, sRate):\n",
    "        self.m = m\n",
    "        self.s = s\n",
    "        self.end = end\n",
    "        self.aRate = aRate\n",
    "        self.sRate = sRate\n",
    "        self.total_cost = s * end * 10\n",
    "        self.busy = 0\n",
    "        self.event_list = []\n",
    "        self.waiting_queue = Queue(m)\n",
    "        self.machines = []\n",
    "        iden = 0\n",
    "        while iden < m:\n",
    "            self.machines.append(machine(iden,np.random.exponential(aRate)))\n",
    "            iden += 1\n",
    "        iden = 0\n",
    "        while iden < len(self.machines):\n",
    "            item = self.machines[iden]\n",
    "            heapq.heappush(self.event_list,\\\n",
    "                    event(item.break_time, item.break_time, item.iden, 'break'))\n",
    "            iden += 1\n",
    "\n",
    "    def simulation(self):        # One Event\n",
    "        while self.oneEvent():\n",
    "            pass\n",
    "        # Calculate cost\n",
    "        while len(self.event_list) != 0:\n",
    "            e = heapq.heappop(self.event_list)\n",
    "            if e.start <= self.end:\n",
    "                    self.total_cost += (self.end - e.start) * 50\n",
    "        while not self.waiting_queue.empty():\n",
    "            m = self.waiting_queue.get()\n",
    "            self.total_cost += (self.end - m.break_time) * 50\n",
    "        return self.total_cost\n",
    "            \n",
    "    def oneEvent(self):\n",
    "        e  = heapq.heappop(self.event_list)\n",
    "        # if next event happens after ending\n",
    "        if e.end >= self.end:\n",
    "            if e.state == 'break':\n",
    "                self.total_cost += (self.end - e.start) * 50\n",
    "            if e.state == 'repair':\n",
    "                self.total_cost += (self.end - e.start) * 50 \n",
    "            return False\n",
    "        \n",
    "        # if one demage\n",
    "        if e.state == 'break':\n",
    "            break_m = self.machines[e.iden]\n",
    "            break_m.break_time = e.end\n",
    "            # if no  idle\n",
    "            if self.busy == self.s:\n",
    "                self.waiting_queue.put(break_m)\n",
    "            else:\n",
    "                heapq.heappush(self.event_list, event(e.end, e.end + np.random.exponential(self.sRate), break_m.iden, 'repair'))\n",
    "                self.busy += 1\n",
    "\n",
    "        # if finishes repairment\n",
    "        if e.state == 'repair':\n",
    "            self.busy -= 1\n",
    "            self.total_cost +=  (e.end-e.start) * 50\n",
    "            bt = np.random.exponential(self.aRate)\n",
    "            heapq.heappush(self.event_list,event(e.end + bt, e.end + bt, e.iden, 'break'))\n",
    "            \n",
    "            if not self.waiting_queue.empty():\n",
    "                break_m = self.waiting_queue.get()\n",
    "                self.total_cost += (e.end - break_m.break_time) * 50 # total waiting\n",
    "                heapq.heappush(self.event_list, event(e.end, e.end + np.random.exponential(2), break_m.iden, 'repair'))\n",
    "                self.busy += 1\n",
    "        return True\n",
    "\n",
    "class machine:\n",
    "    def __init__(self, iden, break_time):\n",
    "        self.iden = iden\n",
    "        self.break_time = break_time\n",
    "\n",
    "class event:\n",
    "    def __init__(self, start, end, iden, state):\n",
    "        self.start = start\n",
    "        self.end = end\n",
    "        self.iden = iden\n",
    "        self.state = state\n",
    "    \n",
    "    def __lt__(self, other):\n",
    "        return self.end < other.end\n",
    "    \n",
    "class problem1:\n",
    "    def __init__(self,n0,s,delta):\n",
    "        self.s = s\n",
    "        self.n0 = n0\n",
    "        self.delta = delta\n",
    "        self.final_result = []\n",
    "        self.samples = []\n",
    "        \n",
    "    def algo(self):\n",
    "        i = 1\n",
    "        while i < self.s+1:\n",
    "            y = []\n",
    "            for _ in range(self.n0):\n",
    "                system_ = system(5,i,800,8,2)\n",
    "                y.append(system_.simulation())\n",
    "            S = np.var(y,ddof=1)\n",
    "            N = np.max([self.n0, math.ceil(((3.385**2)*S/(self.delta**2)))])\n",
    "            for _ in range(N-self.n0):\n",
    "                system_ = system(5,i,800,8,2)\n",
    "                y.append(system_.simulation())\n",
    "            self.samples.append(y)\n",
    "            self.final_result.append(np.mean(y))\n",
    "            i+=1\n",
    "\n",
    "    def storingAndPlotting(self):\n",
    "        with open('samples.csv', mode='w', newline='') as file:\n",
    "            writer = csv.writer(file)\n",
    "            writer.writerow(['Repairmen', 'Cost'])\n",
    "            for s in range(0, 5):\n",
    "                for sample in self.samples[s]:\n",
    "                    writer.writerow([s+1, sample])\n",
    "    \n",
    "        for index in range(len(self.samples)):\n",
    "            sample = self.samples[index]\n",
    "            plt.hist(sample,bins=100,density=True)\n",
    "            plt.xlabel(\"Sample Cost of %i repairmen\"%(index+1))\n",
    "            plt.ylabel(\"Frequency\")\n",
    "            plt.show()\n",
    "        print(\"-------Problem1-------\")\n",
    "        print('The number of repairmen we should hire is: %i'%(np.argmin(self.final_result)+1))\n"
   ]
  },
  {
   "cell_type": "code",
   "execution_count": 61,
   "metadata": {},
   "outputs": [
    {
     "data": {
      "image/png": "[encoded data removed]",
      "text/plain": [
       "<Figure size 432x288 with 1 Axes>"
      ]
     },
     "metadata": {
      "needs_background": "light"
     },
     "output_type": "display_data"
    },
    {
     "data": {
      "image/png": "[encoded data removed]",
      "text/plain": [
       "<Figure size 432x288 with 1 Axes>"
      ]
     },
     "metadata": {
      "needs_background": "light"
     },
     "output_type": "display_data"
    },
    {
     "data": {
      "image/png": "[encoded data removed]",
      "text/plain": [
       "<Figure size 432x288 with 1 Axes>"
      ]
     },
     "metadata": {
      "needs_background": "light"
     },
     "output_type": "display_data"
    },
    {
     "data": {
      "image/png": "[encoded data removed]",
      "text/plain": [
       "<Figure size 432x288 with 1 Axes>"
      ]
     },
     "metadata": {
      "needs_background": "light"
     },
     "output_type": "display_data"
    },
    {
     "data": {
      "image/png": "[encoded data removed]",
      "text/plain": [
       "<Figure size 432x288 with 1 Axes>"
      ]
     },
     "metadata": {
      "needs_background": "light"
     },
     "output_type": "display_data"
    },
    {
     "name": "stdout",
     "output_type": "stream",
     "text": [
      "-------Problem1-------\n",
      "The number of repairmen we should hire is: 2\n"
     ]
    }
   ],
   "source": [
    "# main process\n",
    "algo_test = problem1(20,5,500)\n",
    "algo_test.algo()\n",
    "algo_test.storingAndPlotting()"
   ]
  },
  {
   "cell_type": "code",
   "execution_count": 62,
   "metadata": {},
   "outputs": [],
   "source": [
    "# Problem 2\n",
    "def curtail(n,temp_max,temp):\n",
    "    if (temp_max - temp) > n:\n",
    "        return 0\n",
    "    return 1\n",
    "\n",
    "class problem2:\n",
    "    def __init__(self):\n",
    "        pass\n",
    "    def Rank_Cur(self,n,k):\n",
    "        prob = [0.58, 0.56, 0.6, 0.65]\n",
    "        result = [[],[],[],[]]\n",
    "        temp = [0,0,0,0]\n",
    "        state = [1,1,1,1]\n",
    "        i = 0\n",
    "        while i < n:\n",
    "            system = 0\n",
    "            while system < k:\n",
    "                if state[system] == 1:\n",
    "                    result[system].append(np.random.binomial(1,prob[system],1)[0])\n",
    "                    temp[system] = np.sum(result[system])\n",
    "                system += 1\n",
    "            # curtailment checking\n",
    "\n",
    "            system = 0\n",
    "            while system < k:\n",
    "                state[system] = curtail(n-i+1,np.max(temp),temp[system])\n",
    "                system += 1\n",
    "\n",
    "            # only one system is on and it's the best system    \n",
    "            if np.sum(state) == 1:\n",
    "                best = np.argmax(state)+1\n",
    "                break\n",
    "            i+=1\n",
    "            \n",
    "        # if still > one system\n",
    "        if np.sum(state) > 1:\n",
    "            best = np.argmax(temp) + 1\n",
    "        self.result = result\n",
    "        self.best = best\n",
    "    \n",
    "    def savingAndOutput(self):\n",
    "        with open('q2.csv', mode='w', newline='') as file:\n",
    "            writer = csv.writer(file)\n",
    "            writer.writerow(['System', 'Samples'])\n",
    "            for s in range(0, 4):\n",
    "                for sample in self.result[s]:\n",
    "                    writer.writerow([s+1, sample])\n",
    "\n",
    "    def repeat(self):\n",
    "        besystem = [0,0,0,0]\n",
    "        for i in range(1000):\n",
    "            self.Rank_Cur(601,4)\n",
    "            b=self.best\n",
    "            besystem[b-1] += 1\n",
    "    \n",
    "        for index in range(4):\n",
    "            besystem[index] /= 1000\n",
    "    \n",
    "        # print the result\n",
    "        print(\"The distribution: [%f, %f, %f, %f]\"%(besystem[0],besystem[1],besystem[2],besystem[3]))\n",
    "        \n",
    "        if np.max(besystem) > 0.90:\n",
    "            print('The correct selection rate is %f, larger than P(CS) = 0.90'%np.max(besystem))"
   ]
  },
  {
   "cell_type": "code",
   "execution_count": 63,
   "metadata": {},
   "outputs": [
    {
     "name": "stdout",
     "output_type": "stream",
     "text": [
      "The distribution: [0.006000, 0.001000, 0.033000, 0.960000]\n",
      "The correct selection rate is 0.960000, larger than P(CS) = 0.90\n"
     ]
    }
   ],
   "source": [
    "# main process\n",
    "mainAlgo = problem2()\n",
    "mainAlgo.Rank_Cur(601, 4)\n",
    "mainAlgo.savingAndOutput()\n",
    "mainAlgo.repeat()"
   ]
  }
 ],
 "metadata": {
  "kernelspec": {
   "display_name": "Python 3",
   "language": "python",
   "name": "python3"
  },
  "language_info": {
   "codemirror_mode": {
    "name": "ipython",
    "version": 3
   },
   "file_extension": ".py",
   "mimetype": "text/x-python",
   "name": "python",
   "nbconvert_exporter": "python",
   "pygments_lexer": "ipython3",
   "version": "3.10.4"
  },
  "orig_nbformat": 4
 },
 "nbformat": 4,
 "nbformat_minor": 2
}
