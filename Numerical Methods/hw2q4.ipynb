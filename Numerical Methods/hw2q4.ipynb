{
 "cells": [
  {
   "cell_type": "code",
   "execution_count": 89,
   "metadata": {},
   "outputs": [],
   "source": [
    "import numpy as np\n",
    "from random import expovariate as exp"
   ]
  },
  {
   "cell_type": "code",
   "execution_count": 90,
   "metadata": {},
   "outputs": [],
   "source": [
    "class PriorityQueue:\n",
    "    def __init__(self, lambda1, lambda2, t1, t2):\n",
    "        # Parameters\n",
    "        self.lambda1 = lambda1\n",
    "        self.lambda2 = lambda2\n",
    "        self.t1 = t1\n",
    "        self.t2 = t2\n",
    "        # Initialize State Variables\n",
    "        self.n1 = 0\n",
    "        self.n2 = 0\n",
    "        self.s = 0\n",
    "        # Initialize Clock Variables\n",
    "        self.ArrRes1 = exp(self.lambda1)\n",
    "        self.ArrRes2 = exp(self.lambda2)\n",
    "        self.ServRes = 0\n",
    "        # Initialize Analytic Variables\n",
    "        self.totalDelay1 = 0\n",
    "        self.totalDelay2 = 0\n",
    "        self.nbrServed1 = 0\n",
    "        self.nbrServed2 = 0\n",
    "\n",
    "    def updateServedNbr(self):\n",
    "        if self.s == 1:\n",
    "            self.nbrServed1 += 1\n",
    "        elif self.s == 2:\n",
    "            self.nbrServed2 += 1\n",
    "\n",
    "    def updateDelay(self, deltaTime):\n",
    "        self.totalDelay1 += self.n1*deltaTime # Update delay of 1\n",
    "        self.totalDelay2 += self.n2*deltaTime # Update delay of 2\n",
    "\n",
    "    def singleTransition(self):\n",
    "        deltaTime = 0\n",
    "        if self.s == 0: # No customers at service or in the queues\n",
    "            if self.ArrRes1 < self.ArrRes2: \n",
    "                # Level 1 customer arrives first & get served\n",
    "                # Gone through Ares1 time\n",
    "                deltaTime = self.ArrRes1 \n",
    "                self.ArrRes2 -= deltaTime\n",
    "                self.ArrRes1 = exp(self.lambda1)\n",
    "                self.ServRes = self.t1\n",
    "                # State changes\n",
    "                self.s = 1 \n",
    "            else: \n",
    "                # Level 2 customer arrives first & get served\n",
    "                # Gone through Ares2 time\n",
    "                deltaTime = self.ArrRes2\n",
    "                self.ArrRes1 -= deltaTime\n",
    "                self.ArrRes2 = exp(self.lambda2)\n",
    "                self.ServRes = self.t2\n",
    "                # State changes\n",
    "                self.s = 2\n",
    "        else: # There is customers at service, may or may not have people in the queues\n",
    "            if self.ServRes > min(self.ArrRes1, self.ArrRes2):\n",
    "                # An arrival occurs before service completion, service state doesn't change\n",
    "                if self.ArrRes1 < self.ArrRes2: # Level 1 customer comes first\n",
    "                    # Gone through Ares1 time\n",
    "                    deltaTime = self.ArrRes1\n",
    "                    self.ArrRes2 -= deltaTime\n",
    "                    self.ServRes -=  deltaTime\n",
    "                    self.updateDelay(deltaTime)\n",
    "                    self.ArrRes1 = exp(self.lambda1)\n",
    "                    # State changes \n",
    "                    self.n1 += 1\n",
    "                else: # Level 2 customer comes first\n",
    "                    # Gone through Ares2 time\n",
    "                    deltaTime = self.ArrRes2\n",
    "                    self.ArrRes1 -= deltaTime\n",
    "                    self.ServRes -= deltaTime\n",
    "                    self.updateDelay(deltaTime)\n",
    "                    self.ArrRes2 = exp(self.lambda2)\n",
    "                    # State changes\n",
    "                    self.n2 += 1\n",
    "            else: \n",
    "                # Service completed before any arrival, service state changes\n",
    "                if self.n1 > 0: # There is level1 customer waiting\n",
    "                    # Gone through Sres time\n",
    "                    deltaTime = self.ServRes\n",
    "                    self.ArrRes1 -= deltaTime\n",
    "                    self.ArrRes2 -= deltaTime\n",
    "                    self.ServRes = self.t1\n",
    "                    self.updateDelay(deltaTime)\n",
    "                    # State changes\n",
    "                    self.n1 -= 1\n",
    "                    self.updateServedNbr()\n",
    "                    self.s = 1\n",
    "                else: # No Level1 customer\n",
    "                    if self.n2 > 0: # There is level2 customer waiting\n",
    "                        deltaTime = self.ServRes\n",
    "                        self.ArrRes1 -= deltaTime\n",
    "                        self.ArrRes2 -= deltaTime\n",
    "                        self.ServRes = self.t2\n",
    "                        self.updateDelay(deltaTime)\n",
    "                        # State changes\n",
    "                        self.n2 -= 1\n",
    "                        self.updateServedNbr()\n",
    "                        self.s = 2\n",
    "                    else: # no customer waiting\n",
    "                        deltaTime = self.ServRes\n",
    "                        self.ArrRes1 -= deltaTime\n",
    "                        self.ArrRes2 -= deltaTime\n",
    "                        self.ServRes = 0\n",
    "                        # State changes\n",
    "                        self.updateServedNbr()\n",
    "                        self.s = 0\n",
    "    \n",
    "    def simulation(self, N):\n",
    "        for i in range(N):\n",
    "            self.singleTransition()\n",
    "        aveDelay1 = self.totalDelay1/self.nbrServed1\n",
    "        aveDelay2 = self.totalDelay2/self.nbrServed2\n",
    "        return (aveDelay1, aveDelay2)                                                           "
   ]
  },
  {
   "attachments": {},
   "cell_type": "markdown",
   "metadata": {},
   "source": [
    "1,000 Transitions"
   ]
  },
  {
   "cell_type": "code",
   "execution_count": 91,
   "metadata": {},
   "outputs": [
    {
     "name": "stdout",
     "output_type": "stream",
     "text": [
      ">> 1000 simulations <<\n",
      "Not considering service time:\n",
      "Average Delay of Level 1 customers: 1.0490604500384242\n",
      "Average Delay of Level 2 customers: 2.30442473987603\n",
      "Considering service time:\n",
      "Average Delay of Level 1 customers: 1.2490604500384241\n",
      "Average Delay of Level 2 customers: 5.30442473987603\n"
     ]
    }
   ],
   "source": [
    "queueSys = PriorityQueue(lambda1=0.1, lambda2=0.2, t1=0.2, t2=3)\n",
    "result = queueSys.simulation(1000)\n",
    "print(\">> 1000 simulations <<\")\n",
    "print(\"Not considering service time:\")\n",
    "print(\"Average Delay of Level 1 customers:\", result[0])\n",
    "print(\"Average Delay of Level 2 customers:\", result[1])\n",
    "print(\"Considering service time:\")\n",
    "print(\"Average Delay of Level 1 customers:\", result[0]+0.2)\n",
    "print(\"Average Delay of Level 2 customers:\", result[1]+3)"
   ]
  },
  {
   "attachments": {},
   "cell_type": "markdown",
   "metadata": {},
   "source": [
    "10,000 Transitions"
   ]
  },
  {
   "cell_type": "code",
   "execution_count": 92,
   "metadata": {},
   "outputs": [
    {
     "name": "stdout",
     "output_type": "stream",
     "text": [
      ">> 10000 simulations <<\n",
      "Not considering service time:\n",
      "Average Delay of Level 1 customers: 0.897428672630251\n",
      "Average Delay of Level 2 customers: 2.395452173312155\n",
      "Considering service time:\n",
      "Average Delay of Level 1 customers: 1.097428672630251\n",
      "Average Delay of Level 2 customers: 5.3954521733121545\n"
     ]
    }
   ],
   "source": [
    "queueSys = PriorityQueue(lambda1=0.1, lambda2=0.2, t1=0.2, t2=3)\n",
    "result = queueSys.simulation(10000)\n",
    "print(\">> 10000 simulations <<\")\n",
    "print(\"Not considering service time:\")\n",
    "print(\"Average Delay of Level 1 customers:\", result[0])\n",
    "print(\"Average Delay of Level 2 customers:\", result[1])\n",
    "print(\"Considering service time:\")\n",
    "print(\"Average Delay of Level 1 customers:\", result[0]+0.2)\n",
    "print(\"Average Delay of Level 2 customers:\", result[1]+3)"
   ]
  },
  {
   "attachments": {},
   "cell_type": "markdown",
   "metadata": {},
   "source": [
    "1000 Transitions x 10000"
   ]
  },
  {
   "cell_type": "code",
   "execution_count": 93,
   "metadata": {},
   "outputs": [
    {
     "name": "stdout",
     "output_type": "stream",
     "text": [
      ">> 10000 rounds of simulations <<\n",
      "Not considering service time:\n",
      "Average Delay of Level 1 customers: 0.9196298799652395\n",
      "Average Delay of Level 2 customers: 2.394063942498133\n",
      "Considering service time:\n",
      "Average Delay of Level 1 customers: 1.1196298799652395\n",
      "Average Delay of Level 2 customers: 5.394063942498133\n"
     ]
    }
   ],
   "source": [
    "list1 = []\n",
    "list2 = []\n",
    "for i in range(10000):\n",
    "    queueSys = PriorityQueue(lambda1=0.1, lambda2=0.2, t1=0.2, t2=3)\n",
    "    result = queueSys.simulation(1000)\n",
    "    list1.append(result[0])\n",
    "    list2.append(result[1])\n",
    "print(\">> 10000 rounds of simulations <<\")\n",
    "print(\"Not considering service time:\")\n",
    "print(\"Average Delay of Level 1 customers:\", sum(list1)/10000)\n",
    "print(\"Average Delay of Level 2 customers:\", sum(list2)/10000)\n",
    "print(\"Considering service time:\")\n",
    "print(\"Average Delay of Level 1 customers:\", sum(list1)/10000+0.2)\n",
    "print(\"Average Delay of Level 2 customers:\", sum(list2)/10000+3)"
   ]
  }
 ],
 "metadata": {
  "kernelspec": {
   "display_name": "Python 3",
   "language": "python",
   "name": "python3"
  },
  "language_info": {
   "codemirror_mode": {
    "name": "ipython",
    "version": 3
   },
   "file_extension": ".py",
   "mimetype": "text/x-python",
   "name": "python",
   "nbconvert_exporter": "python",
   "pygments_lexer": "ipython3",
   "version": "3.10.4"
  },
  "orig_nbformat": 4,
  "vscode": {
   "interpreter": {
    "hash": "491ad931c69050257a92e6f0511c0d8bc073e0e3be66ead5c86d931e092e78bd"
   }
  }
 },
 "nbformat": 4,
 "nbformat_minor": 2
}
